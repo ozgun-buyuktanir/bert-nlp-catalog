{
 "cells": [
  {
   "cell_type": "code",
   "execution_count": 1,
   "metadata": {},
   "outputs": [],
   "source": [
    "import pandas as pd\n",
    "import numpy as np"
   ]
  },
  {
   "cell_type": "code",
   "execution_count": 2,
   "metadata": {},
   "outputs": [
    {
     "name": "stderr",
     "output_type": "stream",
     "text": [
      "/home/querriqe/miniconda3/lib/python3.11/site-packages/tqdm/auto.py:21: TqdmWarning: IProgress not found. Please update jupyter and ipywidgets. See https://ipywidgets.readthedocs.io/en/stable/user_install.html\n",
      "  from .autonotebook import tqdm as notebook_tqdm\n",
      "2024-04-14 18:19:45.652962: I tensorflow/core/util/port.cc:110] oneDNN custom operations are on. You may see slightly different numerical results due to floating-point round-off errors from different computation orders. To turn them off, set the environment variable `TF_ENABLE_ONEDNN_OPTS=0`.\n",
      "2024-04-14 18:19:45.688749: I tensorflow/core/platform/cpu_feature_guard.cc:182] This TensorFlow binary is optimized to use available CPU instructions in performance-critical operations.\n",
      "To enable the following instructions: AVX2 AVX512F AVX512_VNNI FMA, in other operations, rebuild TensorFlow with the appropriate compiler flags.\n",
      "2024-04-14 18:19:46.264088: W tensorflow/compiler/tf2tensorrt/utils/py_utils.cc:38] TF-TRT Warning: Could not find TensorRT\n",
      "config.json: 100%|██████████| 590/590 [00:00<00:00, 3.87MB/s]\n",
      "model.safetensors: 100%|██████████| 170M/170M [00:15<00:00, 10.8MB/s] \n",
      "generation_config.json: 100%|██████████| 90.0/90.0 [00:00<00:00, 660kB/s]\n",
      "tokenizer_config.json: 100%|██████████| 402/402 [00:00<00:00, 2.32MB/s]\n",
      "vocab.txt: 100%|██████████| 263k/263k [00:00<00:00, 2.01MB/s]\n",
      "special_tokens_map.json: 100%|██████████| 125/125 [00:00<00:00, 1.06MB/s]\n"
     ]
    }
   ],
   "source": [
    "from transformers import AutoTokenizer, BertForMaskedLM, pipeline\n",
    "\n",
    "model = BertForMaskedLM.from_pretrained(\"ytu-ce-cosmos/turkish-medium-bert-uncased\")\n",
    "tokenizer = AutoTokenizer.from_pretrained(\"ytu-ce-cosmos/turkish-medium-bert-uncased\")\n"
   ]
  },
  {
   "cell_type": "code",
   "execution_count": 3,
   "metadata": {},
   "outputs": [],
   "source": [
    "pipe= pipeline('fill-mask', model=model, tokenizer=tokenizer)"
   ]
  },
  {
   "cell_type": "code",
   "execution_count": 18,
   "metadata": {},
   "outputs": [
    {
     "name": "stdout",
     "output_type": "stream",
     "text": [
      "score: 0.14685504138469696 -> token: türk\n"
     ]
    }
   ],
   "source": [
    "result = pipe(\"Aktif bank bir [MASK] bankasıdır.\")\n",
    "print(f\"score: {result[0]['score']} -> token: {result[0]['token_str']}\")"
   ]
  },
  {
   "cell_type": "code",
   "execution_count": 19,
   "metadata": {},
   "outputs": [
    {
     "name": "stdout",
     "output_type": "stream",
     "text": [
      "score: 0.6579968333244324 -> token: başkenti\n"
     ]
    }
   ],
   "source": [
    "result = pipe(\"Türkiye'nin [MASK] Ankara şehridir.\")\n",
    "print(f\"score: {result[0]['score']} -> token: {result[0]['token_str']}\")"
   ]
  }
 ],
 "metadata": {
  "kernelspec": {
   "display_name": "base",
   "language": "python",
   "name": "python3"
  },
  "language_info": {
   "codemirror_mode": {
    "name": "ipython",
    "version": 3
   },
   "file_extension": ".py",
   "mimetype": "text/x-python",
   "name": "python",
   "nbconvert_exporter": "python",
   "pygments_lexer": "ipython3",
   "version": "3.11.4"
  }
 },
 "nbformat": 4,
 "nbformat_minor": 2
}
