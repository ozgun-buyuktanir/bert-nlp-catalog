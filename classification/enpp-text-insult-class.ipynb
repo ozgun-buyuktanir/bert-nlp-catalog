{
 "cells": [
  {
   "cell_type": "code",
   "execution_count": 1,
   "metadata": {},
   "outputs": [],
   "source": [
    "import pandas as pd\n",
    "import numpy as np"
   ]
  },
  {
   "cell_type": "code",
   "execution_count": 2,
   "metadata": {},
   "outputs": [
    {
     "name": "stderr",
     "output_type": "stream",
     "text": [
      "/home/querriqe/miniconda3/lib/python3.11/site-packages/tqdm/auto.py:21: TqdmWarning: IProgress not found. Please update jupyter and ipywidgets. See https://ipywidgets.readthedocs.io/en/stable/user_install.html\n",
      "  from .autonotebook import tqdm as notebook_tqdm\n",
      "2024-04-12 16:34:35.640867: I tensorflow/core/util/port.cc:110] oneDNN custom operations are on. You may see slightly different numerical results due to floating-point round-off errors from different computation orders. To turn them off, set the environment variable `TF_ENABLE_ONEDNN_OPTS=0`.\n",
      "2024-04-12 16:34:35.681883: I tensorflow/core/platform/cpu_feature_guard.cc:182] This TensorFlow binary is optimized to use available CPU instructions in performance-critical operations.\n",
      "To enable the following instructions: AVX2 AVX512F AVX512_VNNI FMA, in other operations, rebuild TensorFlow with the appropriate compiler flags.\n",
      "2024-04-12 16:34:36.350778: W tensorflow/compiler/tf2tensorrt/utils/py_utils.cc:38] TF-TRT Warning: Could not find TensorRT\n",
      "config.json: 100%|██████████| 940/940 [00:00<00:00, 5.98MB/s]\n",
      "pytorch_model.bin: 100%|██████████| 737M/737M [01:06<00:00, 11.0MB/s] \n",
      "/home/querriqe/miniconda3/lib/python3.11/site-packages/torch/_utils.py:831: UserWarning: TypedStorage is deprecated. It will be removed in the future and UntypedStorage will be the only storage class. This should only matter to you if you are using storages directly.  To access UntypedStorage directly, use tensor.untyped_storage() instead of tensor.storage()\n",
      "  return self.fget.__get__(instance, owner)()\n",
      "tokenizer_config.json: 100%|██████████| 380/380 [00:00<00:00, 1.26MB/s]\n",
      "tokenizer.json: 100%|██████████| 3.24M/3.24M [00:00<00:00, 5.81MB/s]\n",
      "special_tokens_map.json: 100%|██████████| 125/125 [00:00<00:00, 553kB/s]\n"
     ]
    }
   ],
   "source": [
    "from transformers import pipeline, AutoModelForTokenClassification, AutoTokenizer, AutoModelForSequenceClassification\n",
    "\n",
    "\n",
    "model= AutoModelForSequenceClassification.from_pretrained(\"ennp/bert-turkish-text-classification-cased\")\n",
    "tokenizer= AutoTokenizer.from_pretrained(\"ennp/bert-turkish-text-classification-cased\")\n",
    "\n",
    "\n",
    "pipe = pipeline(\"sentiment-analysis\", tokenizer=tokenizer, model=model)"
   ]
  },
  {
   "cell_type": "code",
   "execution_count": 7,
   "metadata": {},
   "outputs": [
    {
     "name": "stdout",
     "output_type": "stream",
     "text": [
      "OTHER\n"
     ]
    }
   ],
   "source": [
    "code_to_label={\n",
    " 'LABEL_0': 'INSULT ',\n",
    " 'LABEL_1': 'RACIST ',\n",
    " 'LABEL_2': 'SEXIST',\n",
    " 'LABEL_3': 'PROFANITY ',\n",
    " 'LABEL_4': 'OTHER' }\n",
    "\n",
    "\n",
    "\n",
    "print(code_to_label[pipe(\"kadınlar ve erkekler suyu içer.\")[0]['label']])"
   ]
  },
  {
   "cell_type": "code",
   "execution_count": 8,
   "metadata": {},
   "outputs": [
    {
     "name": "stdout",
     "output_type": "stream",
     "text": [
      "SEXIST\n"
     ]
    }
   ],
   "source": [
    "print(code_to_label[pipe(\"erkekler çok kabadır\")[0]['label']])"
   ]
  },
  {
   "cell_type": "code",
   "execution_count": 9,
   "metadata": {},
   "outputs": [
    {
     "name": "stdout",
     "output_type": "stream",
     "text": [
      "RACIST \n"
     ]
    }
   ],
   "source": [
    "print(code_to_label[pipe(\"yahudiler çok yardım severler\")[0]['label']])"
   ]
  },
  {
   "cell_type": "code",
   "execution_count": 12,
   "metadata": {},
   "outputs": [
    {
     "name": "stdout",
     "output_type": "stream",
     "text": [
      "INSULT \n"
     ]
    }
   ],
   "source": [
    "print(code_to_label[pipe(\"boş boş şeyler yapma.\")[0]['label']])"
   ]
  },
  {
   "cell_type": "code",
   "execution_count": 15,
   "metadata": {},
   "outputs": [
    {
     "name": "stdout",
     "output_type": "stream",
     "text": [
      "PROFANITY \n"
     ]
    }
   ],
   "source": [
    "print(code_to_label[pipe(\"*****.\")[0]['label']])"
   ]
  }
 ],
 "metadata": {
  "kernelspec": {
   "display_name": "base",
   "language": "python",
   "name": "python3"
  },
  "language_info": {
   "codemirror_mode": {
    "name": "ipython",
    "version": 3
   },
   "file_extension": ".py",
   "mimetype": "text/x-python",
   "name": "python",
   "nbconvert_exporter": "python",
   "pygments_lexer": "ipython3",
   "version": "3.11.4"
  }
 },
 "nbformat": 4,
 "nbformat_minor": 2
}
