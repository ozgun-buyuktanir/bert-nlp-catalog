{
 "cells": [
  {
   "cell_type": "code",
   "execution_count": 28,
   "metadata": {},
   "outputs": [],
   "source": [
    "import pandas as pd\n",
    "import numpy as np\n",
    "import matplotlib as plt"
   ]
  },
  {
   "cell_type": "code",
   "execution_count": 30,
   "metadata": {},
   "outputs": [
    {
     "name": "stderr",
     "output_type": "stream",
     "text": [
      "config.json: 100%|██████████| 956/956 [00:00<00:00, 1.99MB/s]\n",
      "model.safetensors: 100%|██████████| 440M/440M [00:41<00:00, 10.7MB/s] \n",
      "tokenizer_config.json: 100%|██████████| 373/373 [00:00<00:00, 1.32MB/s]\n",
      "vocab.txt: 100%|██████████| 251k/251k [00:01<00:00, 182kB/s]\n",
      "tokenizer.json: 100%|██████████| 497k/497k [00:00<00:00, 4.50MB/s]\n",
      "special_tokens_map.json: 100%|██████████| 112/112 [00:00<00:00, 609kB/s]\n"
     ]
    }
   ],
   "source": [
    "from transformers import AutoModelForTokenClassification, AutoTokenizer, pipeline\n",
    "\n",
    "model = AutoModelForTokenClassification.from_pretrained(\"akdeniz27/bert-base-turkish-cased-ner\")\n",
    "tokenizer = AutoTokenizer.from_pretrained(\"akdeniz27/bert-base-turkish-cased-ner\")\n"
   ]
  },
  {
   "cell_type": "code",
   "execution_count": 31,
   "metadata": {},
   "outputs": [],
   "source": [
    "pipe= pipeline('ner', model=model, tokenizer=tokenizer, aggregation_strategy=\"first\")"
   ]
  },
  {
   "cell_type": "code",
   "execution_count": 36,
   "metadata": {},
   "outputs": [
    {
     "name": "stdout",
     "output_type": "stream",
     "text": [
      "[{'entity_group': 'PER', 'score': 0.9946242, 'word': 'Atatürk', 'start': 0, 'end': 7}, {'entity_group': 'ORG', 'score': 0.99283326, 'word': 'Türkiye Büyük Millet Meclisini', 'start': 21, 'end': 51}]\n"
     ]
    }
   ],
   "source": [
    "print(pipe(\"Atatürk 1923 yılında Türkiye Büyük Millet Meclisini kurdu.\"))"
   ]
  }
 ],
 "metadata": {
  "kernelspec": {
   "display_name": "base",
   "language": "python",
   "name": "python3"
  },
  "language_info": {
   "codemirror_mode": {
    "name": "ipython",
    "version": 3
   },
   "file_extension": ".py",
   "mimetype": "text/x-python",
   "name": "python",
   "nbconvert_exporter": "python",
   "pygments_lexer": "ipython3",
   "version": "3.11.4"
  }
 },
 "nbformat": 4,
 "nbformat_minor": 2
}
