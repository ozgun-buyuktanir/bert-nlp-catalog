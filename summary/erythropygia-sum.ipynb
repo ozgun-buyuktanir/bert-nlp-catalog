{
 "cells": [
  {
   "cell_type": "code",
   "execution_count": 5,
   "metadata": {},
   "outputs": [],
   "source": [
    "import pandas as pd\n",
    "import numpy as np\n",
    "import torch"
   ]
  },
  {
   "cell_type": "code",
   "execution_count": 6,
   "metadata": {},
   "outputs": [
    {
     "name": "stderr",
     "output_type": "stream",
     "text": [
      "pytorch_model.bin: 100%|██████████| 559M/559M [00:56<00:00, 9.88MB/s] \n",
      "/home/querriqe/miniconda3/lib/python3.11/site-packages/torch/_utils.py:831: UserWarning: TypedStorage is deprecated. It will be removed in the future and UntypedStorage will be the only storage class. This should only matter to you if you are using storages directly.  To access UntypedStorage directly, use tensor.untyped_storage() instead of tensor.storage()\n",
      "  return self.fget.__get__(instance, owner)()\n",
      "The following encoder weights were not tied to the decoder ['bert/pooler']\n",
      "The following encoder weights were not tied to the decoder ['bert/pooler']\n",
      "The following encoder weights were not tied to the decoder ['bert/pooler']\n",
      "The following encoder weights were not tied to the decoder ['bert/pooler']\n",
      "tokenizer_config.json: 100%|██████████| 380/380 [00:00<00:00, 2.42MB/s]\n",
      "vocab.txt: 100%|██████████| 251k/251k [00:00<00:00, 2.04MB/s]\n",
      "tokenizer.json: 100%|██████████| 755k/755k [00:00<00:00, 2.04MB/s]\n",
      "special_tokens_map.json: 100%|██████████| 125/125 [00:00<00:00, 958kB/s]\n"
     ]
    }
   ],
   "source": [
    "from transformers import AutoModelForSeq2SeqLM, AutoTokenizer, AutoConfig, pipeline\n",
    "\n",
    "device = torch.device(\"cuda\" if torch.cuda.is_available() else \"cpu\")\n",
    "\n",
    "config = AutoConfig.from_pretrained(\"erythropygia/bert-turkish-summarization\")\n",
    "model = AutoModelForSeq2SeqLM.from_pretrained('erythropygia/bert-turkish-summarization', config=config)\n",
    "tokenizer = AutoTokenizer.from_pretrained(\"erythropygia/bert-turkish-summarization\")\n",
    "\n",
    "nlp = pipeline(\n",
    "    task='summarization',\n",
    "    model=model,\n",
    "    tokenizer=tokenizer,\n",
    "    framework='pt',\n",
    "    device=device \n",
    ")\n",
    "\n"
   ]
  },
  {
   "cell_type": "code",
   "execution_count": 7,
   "metadata": {},
   "outputs": [],
   "source": [
    "wp.set_lang(\"tr\")"
   ]
  },
  {
   "cell_type": "code",
   "execution_count": 20,
   "metadata": {},
   "outputs": [],
   "source": [
    "text = (\"Aktif Bank, 1999 yılında Çalık Holding bünyesinde kurulan, 2007’de yeniden yapılandırılan ve 2008 yılında Aktif Bank adını alan, Türkiye’nin özel sermayeli yatırım bankasıdır. Aktif Bank, perakende, yatırım ve bölgesel bankacılık alanlarında faaliyet göstermektedir. Fiziki ve dijital kanallarda sunduğu ürün ve hizmetler ile finansal teknoloji ekosistemi konumunda yer alan banka, iştirakleriyle birlikte; kredi, sigorta, ulaşım, kart hizmetleri, ödeme sistemleri ve eğlence dünyasının da aralarında bulunduğu 10’dan fazla iş kolunda müşterilerine hizmet verir. İştirakleri ve iş ortaklarıyla bu alanlarda 10 milyonun üzerinde müşterisine hizmet veren Aktif Bank, Financial World Innovation, EFMA, Paybefore, VRL Financial, Global Banking and Finance Review gibi önemli organizasyonlardan, aralarında “Dünyanın En Yenilikçi Bankası” ödülünün de bulunduğu 180’nin üzerinde ödül kazanmıştır. \")"
   ]
  },
  {
   "cell_type": "code",
   "execution_count": 18,
   "metadata": {},
   "outputs": [],
   "source": [
    "result = nlp(text)"
   ]
  },
  {
   "cell_type": "code",
   "execution_count": 19,
   "metadata": {},
   "outputs": [
    {
     "name": "stdout",
     "output_type": "stream",
     "text": [
      "[{'summary_text': 'Aktif Bank, 1999 yılında Çalık Holding bünyesinde kurulan, 2007 ’ de yeniden yapılandırılan ve 2008 yılında Aktif Bank adını alan, Türkiye ’ nin özel sermayeli yatırım bankasıdır.'}]\n"
     ]
    }
   ],
   "source": [
    "print(result)"
   ]
  },
  {
   "cell_type": "code",
   "execution_count": 21,
   "metadata": {},
   "outputs": [],
   "source": [
    "text = (\" Aktif Bank, perakende, yatırım ve bölgesel bankacılık alanlarında faaliyet göstermektedir. Fiziki ve dijital kanallarda sunduğu ürün ve hizmetler ile finansal teknoloji ekosistemi konumunda yer alan banka, iştirakleriyle birlikte; kredi, sigorta, ulaşım, kart hizmetleri, ödeme sistemleri ve eğlence dünyasının da aralarında bulunduğu 10’dan fazla iş kolunda müşterilerine hizmet verir. İştirakleri ve iş ortaklarıyla bu alanlarda 10 milyonun üzerinde müşterisine hizmet veren Aktif Bank, Financial World Innovation, EFMA, Paybefore, VRL Financial, Global Banking and Finance Review gibi önemli organizasyonlardan, aralarında “Dünyanın En Yenilikçi Bankası” ödülünün de bulunduğu 180’nin üzerinde ödül kazanmıştır. Aktif Bank, 1999 yılında Çalık Holding bünyesinde kurulan, 2007’de yeniden yapılandırılan ve 2008 yılında Aktif Bank adını alan, Türkiye’nin özel sermayeli yatırım bankasıdır.\")"
   ]
  },
  {
   "cell_type": "code",
   "execution_count": 22,
   "metadata": {},
   "outputs": [
    {
     "name": "stdout",
     "output_type": "stream",
     "text": [
      "[{'summary_text': 'Aktif Bank, Türkiye ’ nin özel sermayeli ilk bankasıdır. Bankanın adı “ Dünyanın En Yenilikçi Bankası ” ödülüne layık görüldü.'}]\n"
     ]
    }
   ],
   "source": [
    "result = nlp(text)\n",
    "print(result)"
   ]
  }
 ],
 "metadata": {
  "kernelspec": {
   "display_name": "base",
   "language": "python",
   "name": "python3"
  },
  "language_info": {
   "codemirror_mode": {
    "name": "ipython",
    "version": 3
   },
   "file_extension": ".py",
   "mimetype": "text/x-python",
   "name": "python",
   "nbconvert_exporter": "python",
   "pygments_lexer": "ipython3",
   "version": "3.11.4"
  }
 },
 "nbformat": 4,
 "nbformat_minor": 2
}
